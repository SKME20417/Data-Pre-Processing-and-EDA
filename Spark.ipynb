{
 "cells": [
  {
   "cell_type": "code",
   "execution_count": 1,
   "id": "127738f1",
   "metadata": {},
   "outputs": [],
   "source": [
    "import pandas as pd\n",
    "from pandas_profiling import profile_report"
   ]
  },
  {
   "cell_type": "code",
   "execution_count": 12,
   "id": "ff0d4bd8",
   "metadata": {},
   "outputs": [],
   "source": [
    "df1 = pd.read_excel(\"copy_data.xlsx\")"
   ]
  },
  {
   "cell_type": "code",
   "execution_count": 15,
   "id": "a00fb838",
   "metadata": {},
   "outputs": [],
   "source": [
    "report1 = df1.profile_report(explorative=True,dark_mode=True)"
   ]
  },
  {
   "cell_type": "code",
   "execution_count": 16,
   "id": "7108db3a",
   "metadata": {},
   "outputs": [
    {
     "data": {
      "application/vnd.jupyter.widget-view+json": {
       "model_id": "548d667aa0824b07b6e224be305e57f6",
       "version_major": 2,
       "version_minor": 0
      },
      "text/plain": [
       "Summarize dataset:   0%|          | 0/5 [00:00<?, ?it/s]"
      ]
     },
     "metadata": {},
     "output_type": "display_data"
    },
    {
     "data": {
      "application/vnd.jupyter.widget-view+json": {
       "model_id": "c43eb9a850ee4b11af5bc0c68ec2a4da",
       "version_major": 2,
       "version_minor": 0
      },
      "text/plain": [
       "Generate report structure:   0%|          | 0/1 [00:00<?, ?it/s]"
      ]
     },
     "metadata": {},
     "output_type": "display_data"
    },
    {
     "data": {
      "application/vnd.jupyter.widget-view+json": {
       "model_id": "fb7d051df2ab4b4191783bf546158514",
       "version_major": 2,
       "version_minor": 0
      },
      "text/plain": [
       "Render HTML:   0%|          | 0/1 [00:00<?, ?it/s]"
      ]
     },
     "metadata": {},
     "output_type": "display_data"
    },
    {
     "data": {
      "application/vnd.jupyter.widget-view+json": {
       "model_id": "0b8fc19851ee47c483293a3d09718807",
       "version_major": 2,
       "version_minor": 0
      },
      "text/plain": [
       "Export report to file:   0%|          | 0/1 [00:00<?, ?it/s]"
      ]
     },
     "metadata": {},
     "output_type": "display_data"
    }
   ],
   "source": [
    "report1.to_file(\"APR_report.html\")"
   ]
  },
  {
   "cell_type": "code",
   "execution_count": 19,
   "id": "1e2912cf",
   "metadata": {},
   "outputs": [],
   "source": [
    "df2 = pd.read_excel('copy_data.xlsx', sheet_name=\"Call_disposition_report\")"
   ]
  },
  {
   "cell_type": "code",
   "execution_count": null,
   "id": "80bf5766",
   "metadata": {},
   "outputs": [],
   "source": [
    "df2.profile_report()"
   ]
  }
 ],
 "metadata": {
  "kernelspec": {
   "display_name": "Python 3 (ipykernel)",
   "language": "python",
   "name": "python3"
  },
  "language_info": {
   "codemirror_mode": {
    "name": "ipython",
    "version": 3
   },
   "file_extension": ".py",
   "mimetype": "text/x-python",
   "name": "python",
   "nbconvert_exporter": "python",
   "pygments_lexer": "ipython3",
   "version": "3.9.7"
  }
 },
 "nbformat": 4,
 "nbformat_minor": 5
}
